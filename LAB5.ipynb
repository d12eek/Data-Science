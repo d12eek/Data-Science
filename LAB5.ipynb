{
  "nbformat": 4,
  "nbformat_minor": 0,
  "metadata": {
    "colab": {
      "provenance": [],
      "authorship_tag": "ABX9TyOOlqHVABVbZXoV5KccQRL2",
      "include_colab_link": true
    },
    "kernelspec": {
      "name": "python3",
      "display_name": "Python 3"
    },
    "language_info": {
      "name": "python"
    }
  },
  "cells": [
    {
      "cell_type": "markdown",
      "metadata": {
        "id": "view-in-github",
        "colab_type": "text"
      },
      "source": [
        "<a href=\"https://colab.research.google.com/github/d12eek/Data-Science/blob/main/LAB5.ipynb\" target=\"_parent\"><img src=\"https://colab.research.google.com/assets/colab-badge.svg\" alt=\"Open In Colab\"/></a>"
      ]
    },
    {
      "cell_type": "code",
      "source": [
        "import pandas as pd\n",
        "import numpy as np"
      ],
      "metadata": {
        "id": "oMCGx1Cyl7q_"
      },
      "execution_count": null,
      "outputs": []
    },
    {
      "cell_type": "code",
      "source": [
        "df = pd.read_csv('/content/1. Simple linear regression.csv')"
      ],
      "metadata": {
        "id": "8Gd3SZu3mD3z"
      },
      "execution_count": null,
      "outputs": []
    },
    {
      "cell_type": "code",
      "source": [
        "print(df.to_string())"
      ],
      "metadata": {
        "colab": {
          "base_uri": "https://localhost:8080/"
        },
        "id": "gGPhKqthmMVP",
        "outputId": "4e826fe7-f68e-4bf2-8700-c4ed74cdcc1d"
      },
      "execution_count": null,
      "outputs": [
        {
          "output_type": "stream",
          "name": "stdout",
          "text": [
            "     SAT   GPA\n",
            "0   1714  2.40\n",
            "1   1664  2.52\n",
            "2   1760  2.54\n",
            "3   1685  2.74\n",
            "4   1693  2.83\n",
            "5   1670  2.91\n",
            "6   1764  3.00\n",
            "7   1764  3.00\n",
            "8   1792  3.01\n",
            "9   1850  3.01\n",
            "10  1735  3.02\n",
            "11  1775  3.07\n",
            "12  1735  3.08\n",
            "13  1712  3.08\n",
            "14  1773  3.12\n",
            "15  1872  3.17\n",
            "16  1755  3.17\n",
            "17  1674  3.17\n",
            "18  1842  3.17\n",
            "19  1786  3.19\n",
            "20  1761  3.19\n",
            "21  1722  3.19\n",
            "22  1663  3.20\n",
            "23  1687  3.21\n",
            "24  1974  3.24\n",
            "25  1826  3.28\n",
            "26  1787  3.28\n",
            "27  1821  3.28\n",
            "28  2020  3.28\n",
            "29  1794  3.28\n",
            "30  1769  3.28\n",
            "31  1934  3.28\n",
            "32  1775  3.29\n",
            "33  1855  3.29\n",
            "34  1880  3.29\n",
            "35  1849  3.31\n",
            "36  1808  3.32\n",
            "37  1954  3.34\n",
            "38  1777  3.37\n",
            "39  1831  3.37\n",
            "40  1865  3.37\n",
            "41  1850  3.38\n",
            "42  1966  3.38\n",
            "43  1702  3.39\n",
            "44  1990  3.39\n",
            "45  1925  3.40\n",
            "46  1824  3.40\n",
            "47  1956  3.40\n",
            "48  1857  3.41\n",
            "49  1979  3.41\n",
            "50  1802  3.41\n",
            "51  1855  3.42\n",
            "52  1907  3.42\n",
            "53  1634  3.42\n",
            "54  1879  3.44\n",
            "55  1887  3.47\n",
            "56  1730  3.47\n",
            "57  1953  3.47\n",
            "58  1781  3.47\n",
            "59  1891  3.48\n",
            "60  1964  3.49\n",
            "61  1808  3.49\n",
            "62  1893  3.50\n",
            "63  2041  3.51\n",
            "64  1893  3.51\n",
            "65  1832  3.52\n",
            "66  1850  3.52\n",
            "67  1934  3.54\n",
            "68  1861  3.58\n",
            "69  1931  3.58\n",
            "70  1933  3.59\n",
            "71  1778  3.59\n",
            "72  1975  3.60\n",
            "73  1934  3.60\n",
            "74  2021  3.61\n",
            "75  2015  3.62\n",
            "76  1997  3.64\n",
            "77  2020  3.65\n",
            "78  1843  3.71\n",
            "79  1936  3.71\n",
            "80  1810  3.71\n",
            "81  1987  3.73\n",
            "82  1962  3.76\n",
            "83  2050  3.81\n"
          ]
        }
      ]
    },
    {
      "cell_type": "code",
      "source": [
        "df['SAT'].mean()"
      ],
      "metadata": {
        "colab": {
          "base_uri": "https://localhost:8080/"
        },
        "id": "iOHKxkfgn0ak",
        "outputId": "9d720c81-b00a-4ed3-96f4-6f5632f2ef38"
      },
      "execution_count": null,
      "outputs": [
        {
          "output_type": "execute_result",
          "data": {
            "text/plain": [
              "1845.2738095238096"
            ]
          },
          "metadata": {},
          "execution_count": 121
        }
      ]
    },
    {
      "cell_type": "code",
      "source": [
        "df['GPA'].mean()"
      ],
      "metadata": {
        "colab": {
          "base_uri": "https://localhost:8080/"
        },
        "id": "gEUS0WahoNEe",
        "outputId": "46822e89-1ec7-4004-d559-f8a50bc4a595"
      },
      "execution_count": null,
      "outputs": [
        {
          "output_type": "execute_result",
          "data": {
            "text/plain": [
              "3.330238095238095"
            ]
          },
          "metadata": {},
          "execution_count": 122
        }
      ]
    },
    {
      "cell_type": "code",
      "source": [
        "x = df['SAT'].values\n",
        "y = df['GPA'].values\n",
        "\n",
        "# Calculate the means of x and y\n",
        "x_mean = np.mean(x)\n",
        "y_mean = np.mean(y)\n",
        "\n",
        "# Calculate beta1 (slope)\n",
        "numerator = np.sum((x - x_mean) * (y - y_mean))\n",
        "denominator = np.sum((x - x_mean)**2)\n",
        "beta1 = numerator / denominator\n",
        "\n",
        "# Calculate beta0 (intercept)\n",
        "beta0 = y_mean - (beta1 * x_mean)\n",
        "\n",
        "print(f\"Beta0 (Intercept): {beta0}\")\n",
        "print(f\"Beta1 (Slope): {beta1}\")\n",
        "\n",
        "\n"
      ],
      "metadata": {
        "colab": {
          "base_uri": "https://localhost:8080/"
        },
        "id": "pbsfG01Koko_",
        "outputId": "2778c2ec-a06b-4768-c1b4-3356014941d5"
      },
      "execution_count": null,
      "outputs": [
        {
          "output_type": "stream",
          "name": "stdout",
          "text": [
            "Beta0 (Intercept): 0.2750402996602803\n",
            "Beta1 (Slope): 0.001655688050092814\n"
          ]
        }
      ]
    },
    {
      "cell_type": "code",
      "source": [
        "import matplotlib.pyplot as plt\n",
        "plt.scatter(df['SAT'], df['GPA'])\n",
        "plt.xlabel('SAT')\n",
        "plt.ylabel('GPA')\n",
        "plt.title('SAT vs GPA')\n",
        "\n",
        "# Plot the regression line\n",
        "plt.plot(x, beta0 + beta1*x, color='red')\n",
        "\n",
        "plt.show()"
      ],
      "metadata": {
        "colab": {
          "base_uri": "https://localhost:8080/",
          "height": 472
        },
        "id": "9r1xiAMtpJ4i",
        "outputId": "d740f1ee-a8ad-420f-e0da-f96f274f9d20"
      },
      "execution_count": null,
      "outputs": [
        {
          "output_type": "display_data",
          "data": {
            "text/plain": [
              "<Figure size 640x480 with 1 Axes>"
            ],
            "image/png": "[encoded data removed]"
          },
          "metadata": {}
        }
      ]
    },
    {
      "cell_type": "code",
      "source": [
        "y_new = beta1* x + beta0\n",
        "y_new"
      ],
      "metadata": {
        "colab": {
          "base_uri": "https://localhost:8080/"
        },
        "id": "jugofPbMp721",
        "outputId": "069f50b2-dd1a-4f0e-c4f7-d87ab2b604f3"
      },
      "execution_count": null,
      "outputs": [
        {
          "output_type": "execute_result",
          "data": {
            "text/plain": [
              "array([3.11288962, 3.03010522, 3.18905127, 3.06487466, 3.07812017,\n",
              "       3.04003934, 3.19567402, 3.19567402, 3.24203329, 3.33806319,\n",
              "       3.14765907, 3.21388659, 3.14765907, 3.10957824, 3.21057521,\n",
              "       3.37448833, 3.18077283, 3.0466621 , 3.32481769, 3.23209916,\n",
              "       3.19070696, 3.12613512, 3.02844953, 3.06818604, 3.54336851,\n",
              "       3.29832668, 3.23375485, 3.29004824, 3.61953016, 3.24534466,\n",
              "       3.20395246, 3.47714099, 3.21388659, 3.34634163, 3.38773383,\n",
              "       3.3364075 , 3.26852429, 3.51025475, 3.21719796, 3.30660512,\n",
              "       3.36289851, 3.33806319, 3.53012301, 3.09302136, 3.56985952,\n",
              "       3.4622398 , 3.2950153 , 3.51356613, 3.34965301, 3.55164695,\n",
              "       3.25859017, 3.34634163, 3.43243741, 2.98043457, 3.38607815,\n",
              "       3.39932365, 3.13938063, 3.50859906, 3.22382072, 3.4059464 ,\n",
              "       3.52681163, 3.26852429, 3.40925778, 3.65429961, 3.40925778,\n",
              "       3.30826081, 3.33806319, 3.47714099, 3.35627576, 3.47217392,\n",
              "       3.4754853 , 3.21885365, 3.5450242 , 3.47714099, 3.62118585,\n",
              "       3.61125172, 3.58144934, 3.61953016, 3.32647338, 3.48045236,\n",
              "       3.27183567, 3.56489246, 3.52350025, 3.6692008 ])"
            ]
          },
          "metadata": {},
          "execution_count": 125
        }
      ]
    },
    {
      "cell_type": "code",
      "source": [
        "df['GPA'].head()"
      ],
      "metadata": {
        "colab": {
          "base_uri": "https://localhost:8080/",
          "height": 241
        },
        "id": "yw9ILLp7qkxm",
        "outputId": "a1d401af-65a8-4253-e331-91d65b1f2dc6"
      },
      "execution_count": null,
      "outputs": [
        {
          "output_type": "execute_result",
          "data": {
            "text/plain": [
              "0    2.40\n",
              "1    2.52\n",
              "2    2.54\n",
              "3    2.74\n",
              "4    2.83\n",
              "Name: GPA, dtype: float64"
            ],
            "text/html": [
              "<div>\n",
              "<style scoped>\n",
              "    .dataframe tbody tr th:only-of-type {\n",
              "        vertical-align: middle;\n",
              "    }\n",
              "\n",
              "    .dataframe tbody tr th {\n",
              "        vertical-align: top;\n",
              "    }\n",
              "\n",
              "    .dataframe thead th {\n",
              "        text-align: right;\n",
              "    }\n",
              "</style>\n",
              "<table border=\"1\" class=\"dataframe\">\n",
              "  <thead>\n",
              "    <tr style=\"text-align: right;\">\n",
              "      <th></th>\n",
              "      <th>GPA</th>\n",
              "    </tr>\n",
              "  </thead>\n",
              "  <tbody>\n",
              "    <tr>\n",
              "      <th>0</th>\n",
              "      <td>2.40</td>\n",
              "    </tr>\n",
              "    <tr>\n",
              "      <th>1</th>\n",
              "      <td>2.52</td>\n",
              "    </tr>\n",
              "    <tr>\n",
              "      <th>2</th>\n",
              "      <td>2.54</td>\n",
              "    </tr>\n",
              "    <tr>\n",
              "      <th>3</th>\n",
              "      <td>2.74</td>\n",
              "    </tr>\n",
              "    <tr>\n",
              "      <th>4</th>\n",
              "      <td>2.83</td>\n",
              "    </tr>\n",
              "  </tbody>\n",
              "</table>\n",
              "</div><br><label><b>dtype:</b> float64</label>"
            ]
          },
          "metadata": {},
          "execution_count": 126
        }
      ]
    },
    {
      "cell_type": "code",
      "source": [
        "residuals = df['GPA'] - y_new\n",
        "residuals"
      ],
      "metadata": {
        "colab": {
          "base_uri": "https://localhost:8080/",
          "height": 459
        },
        "id": "Gm8z_1FFq1CQ",
        "outputId": "d866a8c0-12a0-4b27-e44b-b5a290c19934"
      },
      "execution_count": null,
      "outputs": [
        {
          "output_type": "execute_result",
          "data": {
            "text/plain": [
              "0    -0.712890\n",
              "1    -0.510105\n",
              "2    -0.649051\n",
              "3    -0.324875\n",
              "4    -0.248120\n",
              "        ...   \n",
              "79    0.229548\n",
              "80    0.438164\n",
              "81    0.165108\n",
              "82    0.236500\n",
              "83    0.140799\n",
              "Name: GPA, Length: 84, dtype: float64"
            ],
            "text/html": [
              "<div>\n",
              "<style scoped>\n",
              "    .dataframe tbody tr th:only-of-type {\n",
              "        vertical-align: middle;\n",
              "    }\n",
              "\n",
              "    .dataframe tbody tr th {\n",
              "        vertical-align: top;\n",
              "    }\n",
              "\n",
              "    .dataframe thead th {\n",
              "        text-align: right;\n",
              "    }\n",
              "</style>\n",
              "<table border=\"1\" class=\"dataframe\">\n",
              "  <thead>\n",
              "    <tr style=\"text-align: right;\">\n",
              "      <th></th>\n",
              "      <th>GPA</th>\n",
              "    </tr>\n",
              "  </thead>\n",
              "  <tbody>\n",
              "    <tr>\n",
              "      <th>0</th>\n",
              "      <td>-0.712890</td>\n",
              "    </tr>\n",
              "    <tr>\n",
              "      <th>1</th>\n",
              "      <td>-0.510105</td>\n",
              "    </tr>\n",
              "    <tr>\n",
              "      <th>2</th>\n",
              "      <td>-0.649051</td>\n",
              "    </tr>\n",
              "    <tr>\n",
              "      <th>3</th>\n",
              "      <td>-0.324875</td>\n",
              "    </tr>\n",
              "    <tr>\n",
              "      <th>4</th>\n",
              "      <td>-0.248120</td>\n",
              "    </tr>\n",
              "    <tr>\n",
              "      <th>...</th>\n",
              "      <td>...</td>\n",
              "    </tr>\n",
              "    <tr>\n",
              "      <th>79</th>\n",
              "      <td>0.229548</td>\n",
              "    </tr>\n",
              "    <tr>\n",
              "      <th>80</th>\n",
              "      <td>0.438164</td>\n",
              "    </tr>\n",
              "    <tr>\n",
              "      <th>81</th>\n",
              "      <td>0.165108</td>\n",
              "    </tr>\n",
              "    <tr>\n",
              "      <th>82</th>\n",
              "      <td>0.236500</td>\n",
              "    </tr>\n",
              "    <tr>\n",
              "      <th>83</th>\n",
              "      <td>0.140799</td>\n",
              "    </tr>\n",
              "  </tbody>\n",
              "</table>\n",
              "<p>84 rows × 1 columns</p>\n",
              "</div><br><label><b>dtype:</b> float64</label>"
            ]
          },
          "metadata": {},
          "execution_count": 127
        }
      ]
    },
    {
      "cell_type": "code",
      "source": [
        "squared_residuals = residuals**2\n",
        "sum_squared_residuals = np.sum(squared_residuals)\n",
        "sum_squared_residuals\n"
      ],
      "metadata": {
        "colab": {
          "base_uri": "https://localhost:8080/"
        },
        "id": "eyoBEAkSs5GV",
        "outputId": "20b8da0c-4c51-4064-d9fe-9e8d95956703"
      },
      "execution_count": null,
      "outputs": [
        {
          "output_type": "execute_result",
          "data": {
            "text/plain": [
              "3.6372727995805025"
            ]
          },
          "metadata": {},
          "execution_count": 128
        }
      ]
    },
    {
      "cell_type": "code",
      "source": [
        "d = np.sqrt(np.sum((df['SAT']-x_mean)**2))\n",
        "rse = sum_squared_residuals/d\n",
        "rse"
      ],
      "metadata": {
        "colab": {
          "base_uri": "https://localhost:8080/"
        },
        "id": "GvTRk_zIuZul",
        "outputId": "965574e5-aad6-438e-852a-443abb93ec7a"
      },
      "execution_count": null,
      "outputs": [
        {
          "output_type": "execute_result",
          "data": {
            "text/plain": [
              "0.003819382311854955"
            ]
          },
          "metadata": {},
          "execution_count": 129
        }
      ]
    },
    {
      "cell_type": "code",
      "source": [
        "t = beta1/rse\n",
        "t"
      ],
      "metadata": {
        "colab": {
          "base_uri": "https://localhost:8080/"
        },
        "id": "EFdNLWziuoHe",
        "outputId": "5c918b30-1b16-4c06-cc85-52df3d112b97"
      },
      "execution_count": null,
      "outputs": [
        {
          "output_type": "execute_result",
          "data": {
            "text/plain": [
              "0.4334962868089259"
            ]
          },
          "metadata": {},
          "execution_count": 130
        }
      ]
    },
    {
      "cell_type": "code",
      "source": [
        "import scipy.stats as stats\n",
        "p_value = stats.t.sf(abs(t), df=len(x)-2) * 2\n",
        "print(f\"P-value: {p_value}\")"
      ],
      "metadata": {
        "colab": {
          "base_uri": "https://localhost:8080/"
        },
        "id": "FzNCpHeWwOQ3",
        "outputId": "3cfb255c-b8c3-4353-d646-067dad0b3e2a"
      },
      "execution_count": null,
      "outputs": [
        {
          "output_type": "stream",
          "name": "stdout",
          "text": [
            "P-value: 0.6657925426527822\n"
          ]
        }
      ]
    },
    {
      "cell_type": "code",
      "source": [
        "import random\n",
        "y1 = 2*df['SAT']+ 3 +np.random.random()\n",
        "y1"
      ],
      "metadata": {
        "colab": {
          "base_uri": "https://localhost:8080/",
          "height": 459
        },
        "id": "E5xv0Vc5yoPd",
        "outputId": "d578b2c1-88a3-4729-9a5a-a984fa029dd9"
      },
      "execution_count": null,
      "outputs": [
        {
          "output_type": "execute_result",
          "data": {
            "text/plain": [
              "0     3431.883941\n",
              "1     3331.883941\n",
              "2     3523.883941\n",
              "3     3373.883941\n",
              "4     3389.883941\n",
              "         ...     \n",
              "79    3875.883941\n",
              "80    3623.883941\n",
              "81    3977.883941\n",
              "82    3927.883941\n",
              "83    4103.883941\n",
              "Name: SAT, Length: 84, dtype: float64"
            ],
            "text/html": [
              "<div>\n",
              "<style scoped>\n",
              "    .dataframe tbody tr th:only-of-type {\n",
              "        vertical-align: middle;\n",
              "    }\n",
              "\n",
              "    .dataframe tbody tr th {\n",
              "        vertical-align: top;\n",
              "    }\n",
              "\n",
              "    .dataframe thead th {\n",
              "        text-align: right;\n",
              "    }\n",
              "</style>\n",
              "<table border=\"1\" class=\"dataframe\">\n",
              "  <thead>\n",
              "    <tr style=\"text-align: right;\">\n",
              "      <th></th>\n",
              "      <th>SAT</th>\n",
              "    </tr>\n",
              "  </thead>\n",
              "  <tbody>\n",
              "    <tr>\n",
              "      <th>0</th>\n",
              "      <td>3431.883941</td>\n",
              "    </tr>\n",
              "    <tr>\n",
              "      <th>1</th>\n",
              "      <td>3331.883941</td>\n",
              "    </tr>\n",
              "    <tr>\n",
              "      <th>2</th>\n",
              "      <td>3523.883941</td>\n",
              "    </tr>\n",
              "    <tr>\n",
              "      <th>3</th>\n",
              "      <td>3373.883941</td>\n",
              "    </tr>\n",
              "    <tr>\n",
              "      <th>4</th>\n",
              "      <td>3389.883941</td>\n",
              "    </tr>\n",
              "    <tr>\n",
              "      <th>...</th>\n",
              "      <td>...</td>\n",
              "    </tr>\n",
              "    <tr>\n",
              "      <th>79</th>\n",
              "      <td>3875.883941</td>\n",
              "    </tr>\n",
              "    <tr>\n",
              "      <th>80</th>\n",
              "      <td>3623.883941</td>\n",
              "    </tr>\n",
              "    <tr>\n",
              "      <th>81</th>\n",
              "      <td>3977.883941</td>\n",
              "    </tr>\n",
              "    <tr>\n",
              "      <th>82</th>\n",
              "      <td>3927.883941</td>\n",
              "    </tr>\n",
              "    <tr>\n",
              "      <th>83</th>\n",
              "      <td>4103.883941</td>\n",
              "    </tr>\n",
              "  </tbody>\n",
              "</table>\n",
              "<p>84 rows × 1 columns</p>\n",
              "</div><br><label><b>dtype:</b> float64</label>"
            ]
          },
          "metadata": {},
          "execution_count": 132
        }
      ]
    },
    {
      "cell_type": "code",
      "source": [
        "y1.mean()"
      ],
      "metadata": {
        "colab": {
          "base_uri": "https://localhost:8080/"
        },
        "id": "5J48iN98zehn",
        "outputId": "b2ce76ee-e5df-48eb-872d-301e8c55b036"
      },
      "execution_count": null,
      "outputs": [
        {
          "output_type": "execute_result",
          "data": {
            "text/plain": [
              "3694.4315601978888"
            ]
          },
          "metadata": {},
          "execution_count": 133
        }
      ]
    },
    {
      "cell_type": "code",
      "source": [
        "\n",
        "\n",
        "# Calculate the means of x and y\n",
        "x_mean = np.mean(x)\n",
        "y_mean = np.mean(y1)\n",
        "\n",
        "# Calculate beta1 (slope)\n",
        "numerator = np.sum((x - x_mean) * (y1 - y_mean))\n",
        "denominator = np.sum((x - x_mean)**2)\n",
        "beta1 = numerator / denominator\n",
        "\n",
        "# Calculate beta0 (intercept)\n",
        "beta0 = y_mean - (beta1 * x_mean)\n",
        "\n",
        "print(f\"Beta0 (Intercept): {beta0}\")\n",
        "print(f\"Beta1 (Slope): {beta1}\")\n"
      ],
      "metadata": {
        "colab": {
          "base_uri": "https://localhost:8080/"
        },
        "id": "D3dUtY6_0tTr",
        "outputId": "bdb1c187-b9e5-4952-fabc-ba00cf80bc95"
      },
      "execution_count": null,
      "outputs": [
        {
          "output_type": "stream",
          "name": "stdout",
          "text": [
            "Beta0 (Intercept): 3.8839411502685834\n",
            "Beta1 (Slope): 2.0000000000000004\n"
          ]
        }
      ]
    },
    {
      "cell_type": "code",
      "source": [
        "x_new = np.arange(1, 11)\n",
        "x_new"
      ],
      "metadata": {
        "colab": {
          "base_uri": "https://localhost:8080/"
        },
        "id": "tzn1REkx1G5H",
        "outputId": "fdf4f7ce-2e29-411d-ce96-eb8f32caf1df"
      },
      "execution_count": null,
      "outputs": [
        {
          "output_type": "execute_result",
          "data": {
            "text/plain": [
              "array([ 1,  2,  3,  4,  5,  6,  7,  8,  9, 10])"
            ]
          },
          "metadata": {},
          "execution_count": 135
        }
      ]
    },
    {
      "cell_type": "code",
      "source": [
        "y_2= x_new**2\n",
        "y_2"
      ],
      "metadata": {
        "colab": {
          "base_uri": "https://localhost:8080/"
        },
        "id": "cnEJbTFc5jM3",
        "outputId": "3f1aebca-e099-4dce-d480-488d551d1718"
      },
      "execution_count": null,
      "outputs": [
        {
          "output_type": "execute_result",
          "data": {
            "text/plain": [
              "array([  1,   4,   9,  16,  25,  36,  49,  64,  81, 100])"
            ]
          },
          "metadata": {},
          "execution_count": 136
        }
      ]
    },
    {
      "cell_type": "code",
      "source": [
        "x_mean = np.mean(x_new)\n",
        "print(x_mean)\n",
        "y_mean = np.mean(y_2)\n",
        "print(y_mean)"
      ],
      "metadata": {
        "colab": {
          "base_uri": "https://localhost:8080/"
        },
        "id": "_1dIVxzV5mQu",
        "outputId": "13570fc5-d14d-431f-d6d3-ec70d016e424"
      },
      "execution_count": null,
      "outputs": [
        {
          "output_type": "stream",
          "name": "stdout",
          "text": [
            "5.5\n",
            "38.5\n"
          ]
        }
      ]
    },
    {
      "cell_type": "code",
      "source": [
        "numerator = np.sum((x_new - x_mean) * (y_2 - y_mean))\n",
        "print(numerator)\n",
        "denominator = np.sum((x - x_mean)**2)\n",
        "print(denominator)\n",
        "beta1 = numerator / denominator\n",
        "\n",
        "# Calculate beta0 (intercept)\n",
        "beta0 = y_mean - (beta1 * x_mean)\n",
        "\n",
        "print(f\"Beta0 (Intercept): {beta0}\")\n",
        "print(f\"Beta1 (Slope): {beta1}\")"
      ],
      "metadata": {
        "colab": {
          "base_uri": "https://localhost:8080/"
        },
        "id": "gvm8PPt05qBE",
        "outputId": "06dc8735-bad9-4204-bf3c-51477120624b"
      },
      "execution_count": null,
      "outputs": [
        {
          "output_type": "stream",
          "name": "stdout",
          "text": [
            "907.5\n",
            "285227397.0\n",
            "Beta0 (Intercept): 38.499982500804435\n",
            "Beta1 (Slope): 3.1816719205273256e-06\n"
          ]
        }
      ]
    },
    {
      "cell_type": "code",
      "source": [
        "plt.scatter(x_new, y_2)\n",
        "plt.xlabel('x_new')\n",
        "plt.ylabel('y_2')\n",
        "plt.title('x_new vs y_2')\n",
        "\n",
        "# Plot the regression line\n",
        "plt.plot(x_new, beta0 + beta1*x_new, color='red')\n",
        "\n",
        "plt.show()"
      ],
      "metadata": {
        "colab": {
          "base_uri": "https://localhost:8080/",
          "height": 471
        },
        "id": "cMw7KWzd6ld0",
        "outputId": "250fe303-3fa8-4f10-af46-f0a7fcbf2aca"
      },
      "execution_count": null,
      "outputs": [
        {
          "output_type": "display_data",
          "data": {
            "text/plain": [
              "<Figure size 640x480 with 1 Axes>"
            ],
            "image/png": "[encoded data removed]"
          },
          "metadata": {}
        }
      ]
    }
  ]
}